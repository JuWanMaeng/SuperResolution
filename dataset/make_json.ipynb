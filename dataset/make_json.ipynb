{
 "cells": [
  {
   "cell_type": "code",
   "execution_count": 1,
   "metadata": {},
   "outputs": [],
   "source": [
    "import os\n",
    "import cv2\n",
    "import json\n",
    "import PIL\n",
    "import numpy as np\n",
    "import matplotlib.pyplot as plt"
   ]
  },
  {
   "cell_type": "code",
   "execution_count": 2,
   "metadata": {},
   "outputs": [],
   "source": [
    "data_path='/home/joowan/Desktop/dataset/DIV2K/'"
   ]
  },
  {
   "cell_type": "code",
   "execution_count": 3,
   "metadata": {},
   "outputs": [],
   "source": [
    "folder=os.listdir(data_path)"
   ]
  },
  {
   "cell_type": "code",
   "execution_count": 4,
   "metadata": {},
   "outputs": [
    {
     "data": {
      "text/plain": [
       "['bicubic_x2_val_LR',\n",
       " 'DIV2K_valid_LR_mild',\n",
       " 'DIV2K_train_LR_wild',\n",
       " 'DIV2K_train_LR_mild',\n",
       " 'DIV2K_valid_HR',\n",
       " 'DIV2K_valid_LR_wild',\n",
       " 'DIV2K_valid_LR_bicubic',\n",
       " 'DIV2K_train_HR',\n",
       " 'bicubic_x2_train_LR']"
      ]
     },
     "execution_count": 4,
     "metadata": {},
     "output_type": "execute_result"
    }
   ],
   "source": [
    "folder"
   ]
  },
  {
   "cell_type": "code",
   "execution_count": 12,
   "metadata": {},
   "outputs": [],
   "source": [
    "train_HR=data_path+'DIV2K_train_HR'\n",
    "train_LR=data_path+'bicubic_x2_train_LR'\n",
    "\n",
    "val_HR=data_path+'DIV2K_valid_HR'\n",
    "val_LR=data_path+'bicubic_x2_val_LR'"
   ]
  },
  {
   "cell_type": "code",
   "execution_count": 13,
   "metadata": {},
   "outputs": [
    {
     "name": "stdout",
     "output_type": "stream",
     "text": [
      "800 800 100 100\n"
     ]
    }
   ],
   "source": [
    "print(len(os.listdir(train_HR)),len(os.listdir(train_LR)),len(os.listdir(val_HR)),len(os.listdir(val_LR)))"
   ]
  },
  {
   "cell_type": "code",
   "execution_count": 15,
   "metadata": {},
   "outputs": [],
   "source": [
    "train_HR_img=[]\n",
    "train_LR_img=[]\n",
    "\n",
    "val_HR_img=[]\n",
    "val_LR_img=[]\n",
    "\n",
    "for root,dir,files in os.walk(train_HR):\n",
    "    for file in files:\n",
    "        img_path=root+'/'+file\n",
    "        train_HR_img.append(img_path)\n",
    "for root,dir,files in os.walk(train_LR):\n",
    "    for file in files:\n",
    "        img_path=root+'/'+file\n",
    "        train_LR_img.append(img_path)\n",
    "for root,dir,files in os.walk(val_HR):\n",
    "    for file in files:\n",
    "        img_path=root+'/'+file\n",
    "        val_HR_img.append(img_path)\n",
    "for root,dir,files in os.walk(val_LR):\n",
    "    for file in files:\n",
    "        img_path=root+'/'+file\n",
    "        val_LR_img.append(img_path)\n",
    "        \n",
    "        "
   ]
  },
  {
   "cell_type": "code",
   "execution_count": 16,
   "metadata": {},
   "outputs": [
    {
     "name": "stdout",
     "output_type": "stream",
     "text": [
      "800 800 100 100\n"
     ]
    }
   ],
   "source": [
    "print(len(train_HR_img),len(train_LR_img),len(val_HR_img),len(val_LR_img))"
   ]
  },
  {
   "cell_type": "code",
   "execution_count": 17,
   "metadata": {},
   "outputs": [],
   "source": [
    "train_HR_img=sorted(train_HR_img)\n",
    "train_LR_img=sorted(train_LR_img)\n",
    "val_HR_img=sorted(val_HR_img)\n",
    "val_LR_img=sorted(val_LR_img)"
   ]
  },
  {
   "cell_type": "code",
   "execution_count": 20,
   "metadata": {},
   "outputs": [],
   "source": [
    "\n",
    "class NpEncoder(json.JSONEncoder):\n",
    "    def default(self, obj):\n",
    "        if isinstance(obj, np.integer):\n",
    "            return int(obj)\n",
    "        elif isinstance(obj, np.floating):\n",
    "            return float(obj)\n",
    "        elif isinstance(obj, np.ndarray):\n",
    "            return obj.tolist()\n",
    "        else:\n",
    "            return super(NpEncoder, self).default(obj)\n"
   ]
  },
  {
   "cell_type": "code",
   "execution_count": 14,
   "metadata": {},
   "outputs": [],
   "source": [
    "f=open('train_HR.json','w')\n",
    "l=[]\n",
    "for i in range(len(train_HR_img)):\n",
    "    d={'img':train_HR_img[i]}\n",
    "    l.append(d)\n",
    "\n",
    "json.dump(l,f,indent='\\t',cls=NpEncoder)\n",
    "f.close()\n",
    "\n",
    "f=open('train_x2_LR.json','w')\n",
    "l=[]\n",
    "for i in range(len(train_LR_img)):\n",
    "    d={'img':train_LR_img[i]}\n",
    "    l.append(d)\n",
    "\n",
    "json.dump(l,f,indent='\\t',cls=NpEncoder)\n",
    "f.close()\n",
    "\n",
    "f=open('val_HR.json','w')\n",
    "l=[]\n",
    "for i in range(len(val_HR_img)):\n",
    "    d={'img':val_HR_img[i]}\n",
    "    l.append(d)\n",
    "\n",
    "json.dump(l,f,indent='\\t',cls=NpEncoder)\n",
    "f.close()\n",
    "\n",
    "f=open('val_x2_LR.json','w')\n",
    "l=[]\n",
    "for i in range(len(val_LR_img)):\n",
    "    d={'img':val_LR_img[i]}\n",
    "    l.append(d)\n",
    "\n",
    "json.dump(l,f,indent='\\t',cls=NpEncoder)\n",
    "f.close()\n",
    "\n",
    "\n",
    "\n",
    "\n"
   ]
  },
  {
   "cell_type": "code",
   "execution_count": null,
   "metadata": {},
   "outputs": [],
   "source": []
  }
 ],
 "metadata": {
  "kernelspec": {
   "display_name": "torch",
   "language": "python",
   "name": "python3"
  },
  "language_info": {
   "codemirror_mode": {
    "name": "ipython",
    "version": 3
   },
   "file_extension": ".py",
   "mimetype": "text/x-python",
   "name": "python",
   "nbconvert_exporter": "python",
   "pygments_lexer": "ipython3",
   "version": "3.10.9"
  },
  "orig_nbformat": 4
 },
 "nbformat": 4,
 "nbformat_minor": 2
}
